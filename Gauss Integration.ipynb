{
 "cells": [
  {
   "cell_type": "code",
   "execution_count": 1,
   "metadata": {},
   "outputs": [],
   "source": [
    "immutable GaussLine\n",
    "    points::Vector{Vector{Float64}}\n",
    "    weights::Vector{Float64}\n",
    "end \n"
   ]
  },
  {
   "cell_type": "code",
   "execution_count": 2,
   "metadata": {},
   "outputs": [
    {
     "data": {
      "text/plain": [
       "GaussLine"
      ]
     },
     "execution_count": 2,
     "metadata": {},
     "output_type": "execute_result"
    }
   ],
   "source": [
    "function GaussLine(npoint::Int64, dim::Int64)\n",
    "    line_points = begin\n",
    "        if npoint == 1; [0.0]\n",
    "        elseif npoint == 2; [-1, 1]/sqrt(3)\n",
    "        elseif npoint == 3; [-1, 0, 1] * sqrt(3/5)\n",
    "        end\n",
    "    end\n",
    "        \n",
    "    line_weights = begin\n",
    "        if npoint == 1; [2.0]\n",
    "        elseif npoint == 2; [1.0, 1.0]\n",
    "        elseif npoint == 3; [5/9, 8/9, 5/9]\n",
    "        end\n",
    "    end \n",
    "    \n",
    "    points = begin\n",
    "        if dim == 1; Vector([[i] for i = line_points])\n",
    "        elseif dim == 2; Vector([[i, j] for i =line_points, j = line_points])\n",
    "        elseif dim == 3; Vector([[i, j, k] for i = line_points, j = line_points, k = line_points])\n",
    "        end\n",
    "    end\n",
    "    \n",
    "    weights = begin\n",
    "        if dim == 1; Vector([i for i = line_weights])\n",
    "        elseif dim == 2; Vector([i*j for i = line_weights, j = line_weights])\n",
    "        elseif dim == 3; Vector([i*j*k for i = line_weights, j = line_weights, k = line_weights])      \n",
    "        end\n",
    "    end \n",
    "    \n",
    "    GaussLine(points, weights)\n",
    "end "
   ]
  },
  {
   "cell_type": "code",
   "execution_count": 3,
   "metadata": {},
   "outputs": [
    {
     "data": {
      "text/plain": [
       "GaussLine(Array{Float64,1}[[-0.774597], [0.0], [0.774597]], [0.555556, 0.888889, 0.555556])"
      ]
     },
     "execution_count": 3,
     "metadata": {},
     "output_type": "execute_result"
    }
   ],
   "source": [
    "a = GaussLine(3,1)"
   ]
  },
  {
   "cell_type": "code",
   "execution_count": 4,
   "metadata": {},
   "outputs": [
    {
     "name": "stdout",
     "output_type": "stream",
     "text": [
      "P = gp.points = Array{Float64,1}[[-0.774597], [0.0], [0.774597]]\n",
      "W = gp.weights = [0.555556, 0.888889, 0.555556]\n"
     ]
    },
    {
     "data": {
      "text/plain": [
       "3-element Array{Float64,1}:\n",
       " 0.555556\n",
       " 0.888889\n",
       " 0.555556"
      ]
     },
     "execution_count": 4,
     "metadata": {},
     "output_type": "execute_result"
    }
   ],
   "source": [
    "gp = GaussLine(3, 1)\n",
    "@show P = gp.points\n",
    "@show W = gp.weights"
   ]
  },
  {
   "cell_type": "code",
   "execution_count": 5,
   "metadata": {},
   "outputs": [
    {
     "data": {
      "text/plain": [
       "f (generic function with 1 method)"
      ]
     },
     "execution_count": 5,
     "metadata": {},
     "output_type": "execute_result"
    }
   ],
   "source": [
    "f(x) = 0.2 + 25x - 200x^2 + 675x^3 - 900x^4 + 400x^5"
   ]
  },
  {
   "cell_type": "code",
   "execution_count": 6,
   "metadata": {},
   "outputs": [
    {
     "name": "stdout",
     "output_type": "stream",
     "text": [
      "I = -492.93333333333334\n"
     ]
    },
    {
     "data": {
      "text/plain": [
       "-492.93333333333334"
      ]
     },
     "execution_count": 6,
     "metadata": {},
     "output_type": "execute_result"
    }
   ],
   "source": [
    "I = 0.0\n",
    "for i = 1:length(W)\n",
    "    I += f(P[i][1]) * W[i]\n",
    "end\n",
    "@show I"
   ]
  },
  {
   "cell_type": "code",
   "execution_count": 8,
   "metadata": {},
   "outputs": [
    {
     "data": {
      "text/plain": [
       "GaussLine(Array{Float64,1}[[-0.774597], [0.0], [0.774597]], [0.555556, 0.888889, 0.555556])"
      ]
     },
     "execution_count": 8,
     "metadata": {},
     "output_type": "execute_result"
    }
   ],
   "source": [
    "gp = GaussLine(3,1)"
   ]
  },
  {
   "cell_type": "code",
   "execution_count": 9,
   "metadata": {},
   "outputs": [
    {
     "data": {
      "text/plain": [
       "GaussLine1 (generic function with 1 method)"
      ]
     },
     "execution_count": 9,
     "metadata": {},
     "output_type": "execute_result"
    }
   ],
   "source": [
    "function GaussLine1(npoint::Int64, dim::Int64)\n",
    "    line_points = begin\n",
    "        if npoint == 1; [0.0]\n",
    "        elseif npoint == 2; [-1, 1]/sqrt(3)\n",
    "        elseif npoint == 3; [-1, 0, 1] * sqrt(3/5)\n",
    "        end\n",
    "    end\n",
    "        \n",
    "    line_weights = begin\n",
    "        if npoint == 1; [2.0]\n",
    "        elseif npoint == 2; [1.0, 1.0]\n",
    "        elseif npoint == 3; [5/9, 8/9, 5/9]\n",
    "        end\n",
    "    end \n",
    "    \n",
    "    points = begin\n",
    "        if dim == 1; Vector([[i] for i = line_points])\n",
    "        elseif dim == 2; Vector([[i, j] for i =line_points, j = line_points])\n",
    "        elseif dim == 3; Vector([[i, j, k] for i = line_points, j = line_points, k = line_points])\n",
    "        end\n",
    "    end\n",
    "    \n",
    "    weights = begin\n",
    "        if dim == 1; Vector([i for i = line_weights])\n",
    "        elseif dim == 2; Vector([i*j for i = line_weights, j = line_weights])\n",
    "        elseif dim == 3; Vector([i*j*k for i = line_weights, j = line_weights, k = line_weights])      \n",
    "        end\n",
    "    end \n",
    "    \n",
    "    return points, weights\n",
    "end "
   ]
  },
  {
   "cell_type": "code",
   "execution_count": 10,
   "metadata": {},
   "outputs": [
    {
     "data": {
      "text/plain": [
       "(Array{Float64,1}[[-0.774597], [0.0], [0.774597]], [0.555556, 0.888889, 0.555556])"
      ]
     },
     "execution_count": 10,
     "metadata": {},
     "output_type": "execute_result"
    }
   ],
   "source": [
    "P, W = GaussLine1(3,1)"
   ]
  },
  {
   "cell_type": "code",
   "execution_count": 22,
   "metadata": {},
   "outputs": [
    {
     "data": {
      "text/plain": [
       "f (generic function with 1 method)"
      ]
     },
     "execution_count": 22,
     "metadata": {},
     "output_type": "execute_result"
    }
   ],
   "source": [
    "f(xi) = xi^5/5 - xi^4/24 - 4xi^3/9 + xi^2/12 + xi/3 + 1 "
   ]
  },
  {
   "cell_type": "code",
   "execution_count": 23,
   "metadata": {},
   "outputs": [
    {
     "name": "stdout",
     "output_type": "stream",
     "text": [
      "I = -12.097222222222225\n"
     ]
    },
    {
     "data": {
      "text/plain": [
       "-12.097222222222225"
      ]
     },
     "execution_count": 23,
     "metadata": {},
     "output_type": "execute_result"
    }
   ],
   "source": [
    "f(xi) = xi^5/5 - xi^4/24 - 4xi^3/9 + xi^2/12 + xi/3 + 1 \n",
    "\n",
    "gp = GaussLine(3, 1)\n",
    "P  = gp.points\n",
    "W  = gp.weights\n",
    "\n",
    "ApproxInt = 0.0\n",
    "for i = 1:length(W)\n",
    "    ApproxInt += f(P[i][1]) * W[i]\n",
    "end\n",
    "\n",
    "@show I"
   ]
  },
  {
   "cell_type": "code",
   "execution_count": 14,
   "metadata": {},
   "outputs": [
    {
     "data": {
      "text/plain": [
       "2.0388888888888888"
      ]
     },
     "execution_count": 14,
     "metadata": {},
     "output_type": "execute_result"
    }
   ],
   "source": [
    "I"
   ]
  },
  {
   "cell_type": "code",
   "execution_count": 20,
   "metadata": {},
   "outputs": [
    {
     "name": "stdout",
     "output_type": "stream",
     "text": [
      "ξ = (P[i])[1] = -0.7745966692414834\n",
      "ξ = (P[i])[1] = 0.0\n",
      "ξ = (P[i])[1] = 0.7745966692414834\n",
      "I = -12.097222222222225\n"
     ]
    },
    {
     "data": {
      "text/plain": [
       "-12.097222222222225"
      ]
     },
     "execution_count": 20,
     "metadata": {},
     "output_type": "execute_result"
    }
   ],
   "source": [
    "# function\n",
    "f(x) = x^5/5 - x^4/24 - 4x^3/9 + x^2/12 + x/3 + 1 \n",
    "\n",
    "# get Gauss points and Gauss weights\n",
    "gp = GaussLine(3, 1)\n",
    "P  = gp.points\n",
    "W  = gp.weights\n",
    "\n",
    "\n",
    "# detJ\n",
    "a = -3\n",
    "b = 2\n",
    "detJ = (b-a)/2\n",
    "\n",
    "# Numerical integration\n",
    "ApproxInt = 0.0\n",
    "for i = 1:length(W)\n",
    "    ξ = P[i][1]  # i_th Gauss point\n",
    "    Gx = (a+b)/2 + (b-a)/2 * ξ # Gauss point position in the real domain\n",
    "    ApproxInt += detJ * f(Gx) * W[i] # W[i]: Gauss weight\n",
    "end\n",
    "\n",
    "@show I"
   ]
  },
  {
   "cell_type": "code",
   "execution_count": null,
   "metadata": {},
   "outputs": [],
   "source": []
  }
 ],
 "metadata": {
  "kernelspec": {
   "display_name": "Julia 1.4.0",
   "language": "julia",
   "name": "julia-1.4"
  },
  "language_info": {
   "file_extension": ".jl",
   "mimetype": "application/julia",
   "name": "julia",
   "version": "1.4.0"
  }
 },
 "nbformat": 4,
 "nbformat_minor": 2
}
