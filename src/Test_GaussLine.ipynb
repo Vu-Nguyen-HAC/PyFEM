{
 "cells": [
  {
   "cell_type": "code",
   "execution_count": 1,
   "metadata": {},
   "outputs": [],
   "source": [
    "# This is how to import a local module from a folder:\n",
    "from GaussLine import GaussLine, GaussPoint\n",
    "from Field import Field, FieldSet"
   ]
  },
  {
   "cell_type": "code",
   "execution_count": 2,
   "metadata": {},
   "outputs": [
    {
     "name": "stdout",
     "output_type": "stream",
     "text": [
      "A = GaussLine[(array([0.57735027, 0.57735027]), 1.0), (array([-0.57735027, -0.57735027]), 1.0), (array([-0.57735027,  0.57735027]), 1.0), (array([ 0.57735027, -0.57735027]), 1.0), (array([0.57735027, 0.57735027]), 1.0)]\n"
     ]
    }
   ],
   "source": [
    "# Test\n",
    "A = GaussLine(2, 2)\n",
    "print(\"A =\", A)"
   ]
  },
  {
   "cell_type": "code",
   "execution_count": 3,
   "metadata": {},
   "outputs": [
    {
     "name": "stdout",
     "output_type": "stream",
     "text": [
      "Gauss points of A: \n",
      "[[-0.57735027 -0.57735027]\n",
      " [-0.57735027  0.57735027]\n",
      " [ 0.57735027 -0.57735027]\n",
      " [ 0.57735027  0.57735027]]\n"
     ]
    }
   ],
   "source": [
    "print(\"Gauss points of A: \")\n",
    "print(A.get_points())"
   ]
  },
  {
   "cell_type": "code",
   "execution_count": 4,
   "metadata": {},
   "outputs": [
    {
     "name": "stdout",
     "output_type": "stream",
     "text": [
      "Gauss weights of A: \n",
      "[1. 1. 1. 1.]\n"
     ]
    }
   ],
   "source": [
    "print(\"Gauss weights of A: \")\n",
    "print(A.get_weights())"
   ]
  },
  {
   "cell_type": "code",
   "execution_count": 5,
   "metadata": {},
   "outputs": [
    {
     "name": "stdout",
     "output_type": "stream",
     "text": [
      "Length of A: \n",
      "4\n"
     ]
    }
   ],
   "source": [
    "print(\"Length of A: \")\n",
    "print(len(A))"
   ]
  },
  {
   "cell_type": "code",
   "execution_count": 6,
   "metadata": {},
   "outputs": [
    {
     "name": "stdout",
     "output_type": "stream",
     "text": [
      "\n",
      "Iteration of A:\n",
      "i =  (array([0.57735027, 0.57735027]), 1.0)\n",
      "i =  (array([-0.57735027, -0.57735027]), 1.0)\n",
      "i =  (array([-0.57735027,  0.57735027]), 1.0)\n",
      "i =  (array([ 0.57735027, -0.57735027]), 1.0)\n",
      "i =  (array([0.57735027, 0.57735027]), 1.0)\n"
     ]
    }
   ],
   "source": [
    "# Iteration of A\n",
    "print()\n",
    "print(\"Iteration of A:\")\n",
    "for i in GaussLine(2, 2):#A:\n",
    "    print(\"i = \", i)"
   ]
  },
  {
   "cell_type": "code",
   "execution_count": 7,
   "metadata": {},
   "outputs": [
    {
     "name": "stdout",
     "output_type": "stream",
     "text": [
      "\n",
      "Access the element of i-th index of the object\n",
      "A[1]= (array([-0.57735027, -0.57735027]), 1.0)\n",
      "A[2]= (array([-0.57735027,  0.57735027]), 1.0)\n",
      "A[3]= (array([ 0.57735027, -0.57735027]), 1.0)\n",
      "A[4]= (array([0.57735027, 0.57735027]), 1.0)\n"
     ]
    }
   ],
   "source": [
    "# Access index ith of the object (by using def __getitem__)\n",
    "print()\n",
    "print(\"Access the element of i-th index of the object\")\n",
    "print(\"A[1]=\", A[1])\n",
    "print(\"A[2]=\", A[2])\n",
    "print(\"A[3]=\", A[3])\n",
    "print(\"A[4]=\", A[4])"
   ]
  },
  {
   "cell_type": "code",
   "execution_count": null,
   "metadata": {},
   "outputs": [],
   "source": []
  },
  {
   "cell_type": "code",
   "execution_count": null,
   "metadata": {},
   "outputs": [],
   "source": []
  }
 ],
 "metadata": {
  "kernelspec": {
   "display_name": "Python 3",
   "language": "python",
   "name": "python3"
  },
  "language_info": {
   "codemirror_mode": {
    "name": "ipython",
    "version": 3
   },
   "file_extension": ".py",
   "mimetype": "text/x-python",
   "name": "python",
   "nbconvert_exporter": "python",
   "pygments_lexer": "ipython3",
   "version": "3.7.4"
  }
 },
 "nbformat": 4,
 "nbformat_minor": 4
}
